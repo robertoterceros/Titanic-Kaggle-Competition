{
 "cells": [
  {
   "cell_type": "code",
   "execution_count": 1,
   "metadata": {},
   "outputs": [],
   "source": [
    "import numpy as np\n",
    "import pandas as pd\n",
    "import seaborn as sns \n",
    "import matplotlib.pyplot as plt\n",
    "%matplotlib inline\n",
    "\n",
    "\n",
    "from helpers import test2submit, import_data\n",
    "\n",
    "\n",
    "from sklearn.preprocessing import LabelEncoder, OneHotEncoder\n",
    "from sklearn.preprocessing import StandardScaler\n",
    "from sklearn.model_selection import train_test_split\n",
    "\n",
    "\n",
    "from sklearn.linear_model import LogisticRegression\n",
    "from sklearn.metrics import confusion_matrix\n",
    "from sklearn.ensemble import RandomForestClassifier\n",
    "from sklearn.svm import SVC, LinearSVC\n",
    "from sklearn.neighbors import KNeighborsClassifier\n",
    "from sklearn.naive_bayes import GaussianNB\n",
    "from sklearn.linear_model import Perceptron\n",
    "from sklearn.linear_model import SGDClassifier\n",
    "from sklearn.tree import DecisionTreeClassifier"
   ]
  },
  {
   "cell_type": "markdown",
   "metadata": {},
   "source": [
    "## Importing the dataset and visualizing the data"
   ]
  },
  {
   "cell_type": "code",
   "execution_count": 2,
   "metadata": {},
   "outputs": [],
   "source": [
    "train_raw, y_train, test_raw = import_data() #Importing the data\n",
    "combine = [train_raw,  test_raw]\n",
    "\n",
    "train_raw.name = 'train_raw'\n",
    "test_raw.name = 'test_raw'\n",
    "test_labels = test_raw['PassengerId']"
   ]
  },
  {
   "cell_type": "code",
   "execution_count": 3,
   "metadata": {},
   "outputs": [
    {
     "name": "stdout",
     "output_type": "stream",
     "text": [
      "<class 'pandas.core.frame.DataFrame'>\n",
      "RangeIndex: 891 entries, 0 to 890\n",
      "Data columns (total 12 columns):\n",
      "PassengerId    891 non-null int64\n",
      "Survived       891 non-null int64\n",
      "Pclass         891 non-null int64\n",
      "Name           891 non-null object\n",
      "Sex            891 non-null object\n",
      "Age            714 non-null float64\n",
      "SibSp          891 non-null int64\n",
      "Parch          891 non-null int64\n",
      "Ticket         891 non-null object\n",
      "Fare           891 non-null float64\n",
      "Cabin          204 non-null object\n",
      "Embarked       889 non-null object\n",
      "dtypes: float64(2), int64(5), object(5)\n",
      "memory usage: 83.6+ KB\n",
      "None\n",
      "----------------------------------------\n",
      "<class 'pandas.core.frame.DataFrame'>\n",
      "RangeIndex: 418 entries, 0 to 417\n",
      "Data columns (total 11 columns):\n",
      "PassengerId    418 non-null int64\n",
      "Pclass         418 non-null int64\n",
      "Name           418 non-null object\n",
      "Sex            418 non-null object\n",
      "Age            332 non-null float64\n",
      "SibSp          418 non-null int64\n",
      "Parch          418 non-null int64\n",
      "Ticket         418 non-null object\n",
      "Fare           417 non-null float64\n",
      "Cabin          91 non-null object\n",
      "Embarked       418 non-null object\n",
      "dtypes: float64(2), int64(4), object(5)\n",
      "memory usage: 36.0+ KB\n",
      "None\n"
     ]
    }
   ],
   "source": [
    "print(train_raw.info())\n",
    "print('-'*40)\n",
    "print(test_raw.info())"
   ]
  },
  {
   "cell_type": "markdown",
   "metadata": {},
   "source": [
    "From this initial observation we can see that there are 891 entries. Nevertheless, 2 embarked observations are missing; 177 ages are missing and only 204 cabin values are valid. The cabin values are not going to be used in this analysis, so they will not be touched."
   ]
  },
  {
   "cell_type": "markdown",
   "metadata": {},
   "source": [
    "We can now examine the Number of survival in the following plot"
   ]
  },
  {
   "cell_type": "code",
   "execution_count": 4,
   "metadata": {},
   "outputs": [
    {
     "name": "stdout",
     "output_type": "stream",
     "text": [
      "Number of Survived:  342\n",
      "Number of Deaths :  549\n"
     ]
    },
    {
     "data": {
      "image/png": "[encoded data removed]",
      "text/plain": [
       "<Figure size 432x288 with 1 Axes>"
      ]
     },
     "metadata": {
      "needs_background": "light"
     },
     "output_type": "display_data"
    }
   ],
   "source": [
    "ax = sns.countplot(y_train,label=\"Count\")\n",
    "D, S = y_train.value_counts()\n",
    "\n",
    "print('Number of Survived: ',S)\n",
    "print('Number of Deaths : ',D)"
   ]
  },
  {
   "cell_type": "markdown",
   "metadata": {},
   "source": [
    "Let’s find out the survival rate by class, sex and age, and plot the results for a better understanding:"
   ]
  },
  {
   "cell_type": "markdown",
   "metadata": {},
   "source": [
    "## Feature Engineering"
   ]
  },
  {
   "cell_type": "markdown",
   "metadata": {},
   "source": [
    "### Family members feature"
   ]
  },
  {
   "cell_type": "markdown",
   "metadata": {},
   "source": [
    "We are not going to analyze the number of Siblings/Spouses or Parents/Children isolatedly. Instead we will study the numbers of family members aboard"
   ]
  },
  {
   "cell_type": "markdown",
   "metadata": {},
   "source": [
    "From the variables SibSp (Siblings/Spouses aboard) and Parch (Parents/Children aboard), we can obtain the total number of family members aboard of the Titanic and calculate the proportion of survival"
   ]
  },
  {
   "cell_type": "code",
   "execution_count": 5,
   "metadata": {},
   "outputs": [],
   "source": [
    "for dataset in combine:\n",
    "    dataset['FamilySize'] = dataset['SibSp'] + dataset['Parch'] + 1"
   ]
  },
  {
   "cell_type": "code",
   "execution_count": 6,
   "metadata": {},
   "outputs": [
    {
     "name": "stdout",
     "output_type": "stream",
     "text": [
      "   FamilySize  Survived\n",
      "0           1  0.303538\n",
      "1           2  0.552795\n",
      "2           3  0.578431\n",
      "3           4  0.724138\n",
      "4           5  0.200000\n",
      "5           6  0.136364\n",
      "6           7  0.333333\n",
      "7           8  0.000000\n",
      "8          11  0.000000\n"
     ]
    }
   ],
   "source": [
    "print(train_raw[['FamilySize', 'Survived']].groupby(['FamilySize'], as_index=False).mean())"
   ]
  },
  {
   "cell_type": "markdown",
   "metadata": {},
   "source": [
    "We can see that for small family members (2-4) there is a good probability of survival, then we define a categorical variable"
   ]
  },
  {
   "cell_type": "code",
   "execution_count": 7,
   "metadata": {},
   "outputs": [],
   "source": [
    "family_size_mapping = {2:1, 3:1, 4:1}\n",
    "for dataset in combine:\n",
    "    dataset['small_family'] = dataset['FamilySize'].map(family_size_mapping)\n",
    "    dataset['small_family'] = dataset['small_family'].fillna(0)\n",
    "    dataset['small_family'] = dataset['small_family'].map(int)"
   ]
  },
  {
   "cell_type": "markdown",
   "metadata": {},
   "source": [
    "### Genre feature"
   ]
  },
  {
   "cell_type": "code",
   "execution_count": 8,
   "metadata": {},
   "outputs": [],
   "source": [
    "for dataset in combine:\n",
    "    dataset['Sex'] = dataset['Sex'].map({'male':1, 'female':0})"
   ]
  },
  {
   "cell_type": "markdown",
   "metadata": {},
   "source": [
    "### Age feature"
   ]
  },
  {
   "cell_type": "code",
   "execution_count": 9,
   "metadata": {},
   "outputs": [
    {
     "data": {
      "text/plain": [
       "<matplotlib.axes._subplots.AxesSubplot at 0x2639eb859e8>"
      ]
     },
     "execution_count": 9,
     "metadata": {},
     "output_type": "execute_result"
    },
    {
     "data": {
      "image/png": "[encoded data removed]",
      "text/plain": [
       "<Figure size 432x288 with 1 Axes>"
      ]
     },
     "metadata": {
      "needs_background": "light"
     },
     "output_type": "display_data"
    }
   ],
   "source": [
    "train_raw['Age'].hist(bins=40)"
   ]
  },
  {
   "cell_type": "code",
   "execution_count": 10,
   "metadata": {
    "scrolled": false
   },
   "outputs": [
    {
     "data": {
      "text/plain": [
       "177"
      ]
     },
     "execution_count": 10,
     "metadata": {},
     "output_type": "execute_result"
    }
   ],
   "source": [
    "train_raw['Age'].isna().sum()"
   ]
  },
  {
   "cell_type": "markdown",
   "metadata": {},
   "source": [
    "In the Titanic dataset, many (177) of the Age values were given as NaN. \n",
    "\n",
    "An accurate way of guessing missing values is to use other correlated features. In our case we note correlation among Age, Gender, and Pclass. Guess Age values using median values for Age across sets of Pclass and Gender feature combinations. So, median Age for Pclass=1 and Gender=0, Pclass=1 and Gender=1, and so on...\n",
    "\n",
    "Let us start by preparing an empty array to contain guessed Age values based on Pclass x Gender combinations.\n"
   ]
  },
  {
   "cell_type": "code",
   "execution_count": 11,
   "metadata": {},
   "outputs": [],
   "source": [
    "guess_ages = np.zeros((2,3))\n",
    "\n",
    "for dataset in combine:\n",
    "    for i in range(0, 2):\n",
    "        for j in range(0, 3):\n",
    "            guess_df = dataset[(dataset['Sex'] == i) & \\\n",
    "                                  (dataset['Pclass'] == j+1)]['Age'].dropna()\n",
    "\n",
    "            # age_mean = guess_df.mean()\n",
    "            # age_std = guess_df.std()\n",
    "            # age_guess = rnd.uniform(age_mean - age_std, age_mean + age_std)\n",
    "\n",
    "            age_guess = guess_df.median()\n",
    "\n",
    "            # Convert random age float to nearest .5 age\n",
    "            guess_ages[i,j] = int( age_guess/0.5 + 0.5 ) * 0.5\n",
    "            \n",
    "    for i in range(0, 2):\n",
    "        for j in range(0, 3):\n",
    "            dataset.loc[ (dataset.Age.isnull()) & (dataset.Sex == i) & (dataset.Pclass == j+1),\\\n",
    "                    'Age'] = guess_ages[i,j]\n",
    "\n",
    "    dataset['Age'] = dataset['Age'].astype(int)\n",
    "\n"
   ]
  },
  {
   "cell_type": "code",
   "execution_count": 12,
   "metadata": {},
   "outputs": [],
   "source": [
    "for dataset in combine:\n",
    "    dataset['AgeRange'] = pd.cut(dataset['Age'], [-1, 6, 65, 85], labels=['baby', 'child/adult','old'])"
   ]
  },
  {
   "cell_type": "code",
   "execution_count": 13,
   "metadata": {},
   "outputs": [],
   "source": [
    "survived_by_class = train_raw.groupby('Pclass')['Survived'].mean()\n",
    "survived_by_sex = train_raw.groupby('Sex')['Survived'].mean()\n",
    "survived_by_age = train_raw.groupby('AgeRange')['Survived'].mean()"
   ]
  },
  {
   "cell_type": "code",
   "execution_count": 14,
   "metadata": {},
   "outputs": [
    {
     "data": {
      "text/plain": [
       "(0.0, 1.0)"
      ]
     },
     "execution_count": 14,
     "metadata": {},
     "output_type": "execute_result"
    },
    {
     "data": {
      "image/png": "[encoded data removed]",
      "text/plain": [
       "<Figure size 1152x432 with 3 Axes>"
      ]
     },
     "metadata": {
      "needs_background": "light"
     },
     "output_type": "display_data"
    }
   ],
   "source": [
    "fig, (axis1,axis2,axis3) = plt.subplots(1, 3, figsize=(16,6))\n",
    "\n",
    "ax = survived_by_class.plot.bar(ax=axis1, color='#5975A4', title='Survival Rate by Class', sharey=True)\n",
    "ax.set_ylabel('Survival Rate')\n",
    "ax.set_ylim(0.0,1.0)\n",
    "ax = survived_by_sex.plot.bar(ax=axis2, color='#5F9E6E', title='Survival Rate by Sex', sharey=True)\n",
    "ax.set_ylim(0.0,1.0)\n",
    "ax = survived_by_age.plot.bar(ax=axis3, color='#B55D60', title='Survival Rate by Age Range', sharey=True)\n",
    "ax.set_ylim(0.0,1.0)"
   ]
  },
  {
   "cell_type": "markdown",
   "metadata": {},
   "source": [
    "### Title feature"
   ]
  },
  {
   "cell_type": "code",
   "execution_count": 15,
   "metadata": {},
   "outputs": [
    {
     "data": {
      "text/html": [
       "<div>\n",
       "<style scoped>\n",
       "    .dataframe tbody tr th:only-of-type {\n",
       "        vertical-align: middle;\n",
       "    }\n",
       "\n",
       "    .dataframe tbody tr th {\n",
       "        vertical-align: top;\n",
       "    }\n",
       "\n",
       "    .dataframe thead th {\n",
       "        text-align: right;\n",
       "    }\n",
       "</style>\n",
       "<table border=\"1\" class=\"dataframe\">\n",
       "  <thead>\n",
       "    <tr style=\"text-align: right;\">\n",
       "      <th></th>\n",
       "      <th>Title</th>\n",
       "      <th>Survived</th>\n",
       "    </tr>\n",
       "  </thead>\n",
       "  <tbody>\n",
       "    <tr>\n",
       "      <th>0</th>\n",
       "      <td>Master</td>\n",
       "      <td>0.575000</td>\n",
       "    </tr>\n",
       "    <tr>\n",
       "      <th>1</th>\n",
       "      <td>Miss</td>\n",
       "      <td>0.702703</td>\n",
       "    </tr>\n",
       "    <tr>\n",
       "      <th>2</th>\n",
       "      <td>Mr</td>\n",
       "      <td>0.156673</td>\n",
       "    </tr>\n",
       "    <tr>\n",
       "      <th>3</th>\n",
       "      <td>Mrs</td>\n",
       "      <td>0.793651</td>\n",
       "    </tr>\n",
       "    <tr>\n",
       "      <th>4</th>\n",
       "      <td>Rare</td>\n",
       "      <td>0.347826</td>\n",
       "    </tr>\n",
       "  </tbody>\n",
       "</table>\n",
       "</div>"
      ],
      "text/plain": [
       "    Title  Survived\n",
       "0  Master  0.575000\n",
       "1    Miss  0.702703\n",
       "2      Mr  0.156673\n",
       "3     Mrs  0.793651\n",
       "4    Rare  0.347826"
      ]
     },
     "execution_count": 15,
     "metadata": {},
     "output_type": "execute_result"
    }
   ],
   "source": [
    "for dataset in combine:\n",
    "    dataset['Title'] = dataset.Name.str.extract(' ([A-Za-z]+)\\.', expand=False)\n",
    "\n",
    "    dataset['Title'] = dataset['Title'].replace(['Lady', 'Countess','Capt', 'Col', 'Don', 'Dr', 'Major', 'Rev', 'Sir', 'Jonkheer', 'Dona'], 'Rare')\n",
    "\n",
    "    dataset['Title'] = dataset['Title'].replace('Mlle', 'Miss')\n",
    "    dataset['Title'] = dataset['Title'].replace('Ms', 'Miss')\n",
    "    dataset['Title'] = dataset['Title'].replace('Mme', 'Mrs')\n",
    "\n",
    "train_raw[['Title', 'Survived']].groupby(['Title'], as_index=False).mean()"
   ]
  },
  {
   "cell_type": "markdown",
   "metadata": {},
   "source": [
    "We can convert the categorical titles to ordinal.\n",
    "\n"
   ]
  },
  {
   "cell_type": "markdown",
   "metadata": {},
   "source": [
    "### Other features"
   ]
  },
  {
   "cell_type": "markdown",
   "metadata": {},
   "source": [
    "title_mapping = {\"Mr\": 1, \"Miss\": 2, \"Mrs\": 3, \"Master\": 4, \"Rare\": 5}\n",
    "age_mapping = {'baby': 0, 'child/adult': 1, 'old':2}\n",
    "embarked_mapping = {'S': 0 , 'C' :1, 'Q':2}\n",
    "\n",
    "for dataset in combine:\n",
    "    dataset['Title'] = dataset['Title'].map(title_mapping)\n",
    "    dataset['Title'] = dataset['Title'].fillna(0).astype('category')\n",
    "    \n",
    "    dataset['AgeRange'] = dataset['AgeRange'].map(age_mapping)\n",
    "    dataset['AgeRange'] = dataset['AgeRange'].fillna(1).astype('category')\n",
    "    \n",
    "    dataset['Embarked'] = dataset['Embarked'].map(embarked_mapping)\n",
    "    dataset['Embarked'] = dataset['Embarked'].fillna(0).astype('category')"
   ]
  },
  {
   "cell_type": "markdown",
   "metadata": {},
   "source": [
    "Dropping useless values"
   ]
  },
  {
   "cell_type": "code",
   "execution_count": 16,
   "metadata": {},
   "outputs": [],
   "source": [
    "train_raw.drop(['Survived'], axis = 1, inplace = True)\n",
    "\n",
    "for dataset in combine:\n",
    "    dataset[\"Embarked\"].fillna(method = 'backfill', inplace = True)\n",
    "    #Drop \"useless\" features:\n",
    "    dataset.drop(['PassengerId', 'Name', 'Cabin', 'Age', 'Fare', 'Ticket', 'FamilySize', 'SibSp', 'Parch'], axis = 1, inplace = True)"
   ]
  },
  {
   "cell_type": "code",
   "execution_count": 17,
   "metadata": {},
   "outputs": [
    {
     "data": {
      "text/plain": [
       "Index(['Pclass', 'Sex', 'Embarked', 'small_family', 'AgeRange', 'Title'], dtype='object')"
      ]
     },
     "execution_count": 17,
     "metadata": {},
     "output_type": "execute_result"
    }
   ],
   "source": [
    "train_raw.columns"
   ]
  },
  {
   "cell_type": "code",
   "execution_count": 18,
   "metadata": {},
   "outputs": [],
   "source": [
    "#train_with_dum = pd.DataFrame()\n",
    "#test_with_dum = pd.DataFrame()\n",
    "\n",
    "for dataset in combine:\n",
    "    dum1 = pd.get_dummies(dataset['Embarked'])\n",
    "    dum2 = pd.get_dummies(dataset['Pclass'])\n",
    "    dum3 = pd.get_dummies(dataset['AgeRange'])\n",
    "    dum4 = pd.get_dummies(dataset['Title'])\n",
    "    tmp = dum1.join(dum2).join(dum3).join(dum4)\n",
    "    \n",
    "    if dataset.name == 'train_raw':\n",
    "        train_with_dum = train_raw.copy()\n",
    "        train_with_dum = train_with_dum.drop(['Embarked', 'Pclass', 'AgeRange', 'Title'], axis = 1)\n",
    "        train_with_dum = train_with_dum.join(tmp)\n",
    "        \n",
    "    if dataset.name =='test_raw':\n",
    "        test_with_dum = test_raw.copy()\n",
    "        test_with_dum = test_with_dum.drop(['Embarked', 'Pclass', 'AgeRange', 'Title'], axis = 1)\n",
    "        test_with_dum = test_with_dum.join(tmp)\n"
   ]
  },
  {
   "cell_type": "code",
   "execution_count": 19,
   "metadata": {},
   "outputs": [],
   "source": [
    "train_X, val_X, train_y, val_y = train_test_split(train_with_dum, y_train, random_state=15, test_size=0.2)"
   ]
  },
  {
   "cell_type": "markdown",
   "metadata": {},
   "source": [
    "## Model, predict and solve\n"
   ]
  },
  {
   "cell_type": "markdown",
   "metadata": {},
   "source": [
    "Now we are ready to train a model and predict the required solution. There are 60+ predictive modelling algorithms to choose from. We must understand the type of problem and solution requirement to narrow down to a select few models which we can evaluate. Our problem is a classification and regression problem. We want to identify relationship between output (Survived or not) with other variables or features (Gender, Age, Port...). We are also perfoming a category of machine learning which is called supervised learning as we are training our model with a given dataset. With these two criteria - Supervised Learning plus Classification and Regression, we can narrow down our choice of models to a few. \n",
    "\n",
    "These include:\n",
    "<ul>\n",
    "    <li>Logistic Regression</li>\n",
    "    <li>KNN or k-Nearest Neighbors</li>\n",
    "    <li>Support Vector Machines</li>\n",
    "    <li>Naive Bayes classifier</li>\n",
    "    <li>Decision Tree</li>\n",
    "    <li>Random Forrest</li>\n",
    "    <li>Perceptron</li>\n",
    "    <li>Artificial neural networ</li>\n",
    "    <li>RVM or Relevance Vector Machine</li>\n",
    "</ul>"
   ]
  },
  {
   "cell_type": "code",
   "execution_count": 20,
   "metadata": {},
   "outputs": [
    {
     "name": "stderr",
     "output_type": "stream",
     "text": [
      "C:\\Users\\Roberto\\Anaconda3\\envs\\tensorflow\\lib\\site-packages\\sklearn\\linear_model\\logistic.py:432: FutureWarning: Default solver will be changed to 'lbfgs' in 0.22. Specify a solver to silence this warning.\n",
      "  FutureWarning)\n"
     ]
    },
    {
     "data": {
      "text/plain": [
       "83.24"
      ]
     },
     "execution_count": 20,
     "metadata": {},
     "output_type": "execute_result"
    }
   ],
   "source": [
    "# Logistic Regression\n",
    "logreg = LogisticRegression()\n",
    "logreg.fit(train_X, train_y)\n",
    "Y_pred = logreg.predict(val_X)\n",
    "acc_log = round(logreg.score(val_X, val_y) * 100, 2)\n",
    "acc_log"
   ]
  },
  {
   "cell_type": "code",
   "execution_count": 21,
   "metadata": {},
   "outputs": [
    {
     "name": "stderr",
     "output_type": "stream",
     "text": [
      "C:\\Users\\Roberto\\Anaconda3\\envs\\tensorflow\\lib\\site-packages\\sklearn\\svm\\base.py:196: FutureWarning: The default value of gamma will change from 'auto' to 'scale' in version 0.22 to account better for unscaled features. Set gamma explicitly to 'auto' or 'scale' to avoid this warning.\n",
      "  \"avoid this warning.\", FutureWarning)\n"
     ]
    },
    {
     "data": {
      "text/plain": [
       "81.01"
      ]
     },
     "execution_count": 21,
     "metadata": {},
     "output_type": "execute_result"
    }
   ],
   "source": [
    "# Support Vector Machines\n",
    "svc = SVC()\n",
    "svc.fit(train_X, train_y)\n",
    "Y_pred = svc.predict(val_X)\n",
    "acc_svc = round(svc.score(val_X, val_y) * 100, 2)\n",
    "acc_svc"
   ]
  },
  {
   "cell_type": "code",
   "execution_count": 22,
   "metadata": {},
   "outputs": [
    {
     "data": {
      "text/plain": [
       "83.24"
      ]
     },
     "execution_count": 22,
     "metadata": {},
     "output_type": "execute_result"
    }
   ],
   "source": [
    "# K nearest Neighbors\n",
    "knn = KNeighborsClassifier(n_neighbors = 3)\n",
    "knn.fit(train_X, train_y)\n",
    "Y_pred = knn.predict(val_X)\n",
    "acc_knn = round(knn.score(val_X, val_y) * 100, 2)\n",
    "acc_knn"
   ]
  },
  {
   "cell_type": "code",
   "execution_count": 23,
   "metadata": {},
   "outputs": [
    {
     "data": {
      "text/plain": [
       "78.77"
      ]
     },
     "execution_count": 23,
     "metadata": {},
     "output_type": "execute_result"
    }
   ],
   "source": [
    "# Gaussian Naive Bayes\n",
    "gaussian = GaussianNB()\n",
    "gaussian.fit(train_X, train_y)\n",
    "Y_pred = gaussian.predict(val_X)\n",
    "acc_gaussian = round(gaussian.score(val_X, val_y) * 100, 2)\n",
    "acc_gaussian"
   ]
  },
  {
   "cell_type": "code",
   "execution_count": 24,
   "metadata": {},
   "outputs": [
    {
     "name": "stderr",
     "output_type": "stream",
     "text": [
      "C:\\Users\\Roberto\\Anaconda3\\envs\\tensorflow\\lib\\site-packages\\sklearn\\linear_model\\stochastic_gradient.py:144: FutureWarning: max_iter and tol parameters have been added in Perceptron in 0.19. If both are left unset, they default to max_iter=5 and tol=None. If tol is not None, max_iter defaults to max_iter=1000. From 0.21, default max_iter will be 1000, and default tol will be 1e-3.\n",
      "  FutureWarning)\n"
     ]
    },
    {
     "data": {
      "text/plain": [
       "72.07"
      ]
     },
     "execution_count": 24,
     "metadata": {},
     "output_type": "execute_result"
    }
   ],
   "source": [
    "# Perceptron\n",
    "\n",
    "perceptron = Perceptron()\n",
    "perceptron.fit(train_X, train_y)\n",
    "Y_pred = perceptron.predict(val_X)\n",
    "acc_perceptron = round(perceptron.score(val_X, val_y) * 100, 2)\n",
    "acc_perceptron"
   ]
  },
  {
   "cell_type": "code",
   "execution_count": 25,
   "metadata": {},
   "outputs": [
    {
     "data": {
      "text/plain": [
       "80.45"
      ]
     },
     "execution_count": 25,
     "metadata": {},
     "output_type": "execute_result"
    }
   ],
   "source": [
    "# Linear SVC\n",
    "linear_svc = LinearSVC()\n",
    "linear_svc.fit(train_X, train_y)\n",
    "Y_pred = linear_svc.predict(val_X)\n",
    "acc_linear_svc = round(linear_svc.score(val_X, val_y) * 100, 2)\n",
    "acc_linear_svc"
   ]
  },
  {
   "cell_type": "code",
   "execution_count": 26,
   "metadata": {},
   "outputs": [
    {
     "name": "stderr",
     "output_type": "stream",
     "text": [
      "C:\\Users\\Roberto\\Anaconda3\\envs\\tensorflow\\lib\\site-packages\\sklearn\\linear_model\\stochastic_gradient.py:144: FutureWarning: max_iter and tol parameters have been added in SGDClassifier in 0.19. If both are left unset, they default to max_iter=5 and tol=None. If tol is not None, max_iter defaults to max_iter=1000. From 0.21, default max_iter will be 1000, and default tol will be 1e-3.\n",
      "  FutureWarning)\n"
     ]
    },
    {
     "data": {
      "text/plain": [
       "42.46"
      ]
     },
     "execution_count": 26,
     "metadata": {},
     "output_type": "execute_result"
    }
   ],
   "source": [
    "# Stochastic Gradient Descent\n",
    "\n",
    "sgd = SGDClassifier()\n",
    "sgd.fit(train_X, train_y)\n",
    "Y_pred = sgd.predict(val_X)\n",
    "acc_sgd = round(sgd.score(val_X, val_y) * 100, 2)\n",
    "acc_sgd"
   ]
  },
  {
   "cell_type": "code",
   "execution_count": 27,
   "metadata": {},
   "outputs": [
    {
     "data": {
      "text/plain": [
       "85.47"
      ]
     },
     "execution_count": 27,
     "metadata": {},
     "output_type": "execute_result"
    }
   ],
   "source": [
    "decision_tree = DecisionTreeClassifier()\n",
    "decision_tree.fit(train_X, train_y)\n",
    "Y_pred = decision_tree.predict(val_X)\n",
    "acc_decision_tree = round(decision_tree.score(val_X, val_y) * 100, 2)\n",
    "acc_decision_tree"
   ]
  },
  {
   "cell_type": "code",
   "execution_count": 28,
   "metadata": {},
   "outputs": [
    {
     "data": {
      "text/plain": [
       "85.47"
      ]
     },
     "execution_count": 28,
     "metadata": {},
     "output_type": "execute_result"
    }
   ],
   "source": [
    "random_forest = RandomForestClassifier(n_estimators=100)\n",
    "random_forest.fit(train_X, train_y)\n",
    "Y_pred = random_forest.predict(val_X)\n",
    "acc_random_forest = round(random_forest.score(val_X, val_y) * 100, 2)\n",
    "acc_random_forest"
   ]
  },
  {
   "cell_type": "code",
   "execution_count": 29,
   "metadata": {},
   "outputs": [
    {
     "data": {
      "text/html": [
       "<div>\n",
       "<style scoped>\n",
       "    .dataframe tbody tr th:only-of-type {\n",
       "        vertical-align: middle;\n",
       "    }\n",
       "\n",
       "    .dataframe tbody tr th {\n",
       "        vertical-align: top;\n",
       "    }\n",
       "\n",
       "    .dataframe thead th {\n",
       "        text-align: right;\n",
       "    }\n",
       "</style>\n",
       "<table border=\"1\" class=\"dataframe\">\n",
       "  <thead>\n",
       "    <tr style=\"text-align: right;\">\n",
       "      <th></th>\n",
       "      <th>Model</th>\n",
       "      <th>Score</th>\n",
       "    </tr>\n",
       "  </thead>\n",
       "  <tbody>\n",
       "    <tr>\n",
       "      <th>3</th>\n",
       "      <td>Random Forest</td>\n",
       "      <td>85.47</td>\n",
       "    </tr>\n",
       "    <tr>\n",
       "      <th>8</th>\n",
       "      <td>Decision Tree</td>\n",
       "      <td>85.47</td>\n",
       "    </tr>\n",
       "    <tr>\n",
       "      <th>1</th>\n",
       "      <td>KNN</td>\n",
       "      <td>83.24</td>\n",
       "    </tr>\n",
       "    <tr>\n",
       "      <th>2</th>\n",
       "      <td>Logistic Regression</td>\n",
       "      <td>83.24</td>\n",
       "    </tr>\n",
       "    <tr>\n",
       "      <th>0</th>\n",
       "      <td>Support Vector Machines</td>\n",
       "      <td>81.01</td>\n",
       "    </tr>\n",
       "    <tr>\n",
       "      <th>7</th>\n",
       "      <td>Linear SVC</td>\n",
       "      <td>80.45</td>\n",
       "    </tr>\n",
       "    <tr>\n",
       "      <th>4</th>\n",
       "      <td>Naive Bayes</td>\n",
       "      <td>78.77</td>\n",
       "    </tr>\n",
       "    <tr>\n",
       "      <th>5</th>\n",
       "      <td>Perceptron</td>\n",
       "      <td>72.07</td>\n",
       "    </tr>\n",
       "    <tr>\n",
       "      <th>6</th>\n",
       "      <td>Stochastic Gradient Decent</td>\n",
       "      <td>42.46</td>\n",
       "    </tr>\n",
       "  </tbody>\n",
       "</table>\n",
       "</div>"
      ],
      "text/plain": [
       "                        Model  Score\n",
       "3               Random Forest  85.47\n",
       "8               Decision Tree  85.47\n",
       "1                         KNN  83.24\n",
       "2         Logistic Regression  83.24\n",
       "0     Support Vector Machines  81.01\n",
       "7                  Linear SVC  80.45\n",
       "4                 Naive Bayes  78.77\n",
       "5                  Perceptron  72.07\n",
       "6  Stochastic Gradient Decent  42.46"
      ]
     },
     "execution_count": 29,
     "metadata": {},
     "output_type": "execute_result"
    }
   ],
   "source": [
    "models = pd.DataFrame({\n",
    "    'Model': ['Support Vector Machines', 'KNN', 'Logistic Regression', \n",
    "              'Random Forest', 'Naive Bayes', 'Perceptron', \n",
    "              'Stochastic Gradient Decent', 'Linear SVC', \n",
    "              'Decision Tree'],\n",
    "    'Score': [acc_svc, acc_knn, acc_log, \n",
    "              acc_random_forest, acc_gaussian, acc_perceptron, \n",
    "              acc_sgd, acc_linear_svc, acc_decision_tree]})\n",
    "models.sort_values(by='Score', ascending=False)"
   ]
  },
  {
   "cell_type": "markdown",
   "metadata": {},
   "source": [
    "After several recursions, we can see that the modelds more accurate are Random Forest and Decision Trees. We will use these to calculate the final output"
   ]
  },
  {
   "cell_type": "markdown",
   "metadata": {},
   "source": [
    "### LOGISTIC REGRESSION"
   ]
  },
  {
   "cell_type": "markdown",
   "metadata": {},
   "source": [
    "Feature Scaling\n",
    "\n",
    "sc = StandardScaler()\n",
    "X_train_log = sc.fit_transform(train_with_dum)\n",
    "X_test_log = sc.transform(train_with_dum)"
   ]
  },
  {
   "cell_type": "code",
   "execution_count": 31,
   "metadata": {},
   "outputs": [
    {
     "name": "stderr",
     "output_type": "stream",
     "text": [
      "C:\\Users\\Roberto\\Anaconda3\\envs\\tensorflow\\lib\\site-packages\\sklearn\\linear_model\\logistic.py:432: FutureWarning: Default solver will be changed to 'lbfgs' in 0.22. Specify a solver to silence this warning.\n",
      "  FutureWarning)\n"
     ]
    },
    {
     "data": {
      "text/plain": [
       "LogisticRegression(C=1.0, class_weight=None, dual=False, fit_intercept=True,\n",
       "          intercept_scaling=1, max_iter=100, multi_class='warn',\n",
       "          n_jobs=None, penalty='l2', random_state=0, solver='warn',\n",
       "          tol=0.0001, verbose=0, warm_start=False)"
      ]
     },
     "execution_count": 31,
     "metadata": {},
     "output_type": "execute_result"
    }
   ],
   "source": [
    "# Fitting Logistic Regression to the Training set\n",
    "classifier = LogisticRegression(random_state = 0)\n",
    "classifier.fit(train_with_dum, y_train)"
   ]
  },
  {
   "cell_type": "code",
   "execution_count": 34,
   "metadata": {},
   "outputs": [],
   "source": [
    "# Predicting the Test set results\n",
    "y_pred = classifier.predict(train_with_dum)"
   ]
  },
  {
   "cell_type": "code",
   "execution_count": 35,
   "metadata": {},
   "outputs": [],
   "source": [
    "cm = confusion_matrix(y_train, y_pred)"
   ]
  },
  {
   "cell_type": "code",
   "execution_count": 38,
   "metadata": {},
   "outputs": [
    {
     "name": "stderr",
     "output_type": "stream",
     "text": [
      "C:\\Users\\Roberto\\Anaconda3\\envs\\tensorflow\\lib\\site-packages\\sklearn\\linear_model\\logistic.py:432: FutureWarning: Default solver will be changed to 'lbfgs' in 0.22. Specify a solver to silence this warning.\n",
      "  FutureWarning)\n"
     ]
    },
    {
     "data": {
      "text/plain": [
       "82.27"
      ]
     },
     "execution_count": 38,
     "metadata": {},
     "output_type": "execute_result"
    }
   ],
   "source": [
    "logreg = LogisticRegression()\n",
    "logreg.fit(train_with_dum, y_train)\n",
    "Y_pred = logreg.predict(test_with_dum)\n",
    "acc_log = round(logreg.score(train_with_dum, y_train) * 100, 2)\n",
    "acc_log"
   ]
  },
  {
   "cell_type": "markdown",
   "metadata": {},
   "source": [
    "### RANDOM FOREST CLASSIFIER"
   ]
  },
  {
   "cell_type": "code",
   "execution_count": 39,
   "metadata": {},
   "outputs": [],
   "source": [
    "classifier = RandomForestClassifier(n_estimators = 100, criterion = 'entropy', random_state = 0)\n",
    "classifier.fit(train_with_dum, y_train)\n",
    "y_pred_train = classifier.predict(train_with_dum)"
   ]
  },
  {
   "cell_type": "code",
   "execution_count": 40,
   "metadata": {},
   "outputs": [
    {
     "data": {
      "text/plain": [
       "array([[517,  32],\n",
       "       [102, 240]], dtype=int64)"
      ]
     },
     "execution_count": 40,
     "metadata": {},
     "output_type": "execute_result"
    }
   ],
   "source": [
    "confusion_matrix(y_train, y_pred_train)"
   ]
  },
  {
   "cell_type": "code",
   "execution_count": 41,
   "metadata": {},
   "outputs": [
    {
     "data": {
      "text/plain": [
       "0.8496071829405163"
      ]
     },
     "execution_count": 41,
     "metadata": {},
     "output_type": "execute_result"
    }
   ],
   "source": [
    "(517+240)/(517+32+102+240)"
   ]
  },
  {
   "cell_type": "code",
   "execution_count": 42,
   "metadata": {},
   "outputs": [],
   "source": [
    "y_pred_test = classifier.predict(test_with_dum)"
   ]
  },
  {
   "cell_type": "code",
   "execution_count": null,
   "metadata": {},
   "outputs": [],
   "source": [
    "test2submit(test_labels, y_pred_test, ml_method='') #With this file we obtain a 0.79904 (My best entry until now)"
   ]
  },
  {
   "cell_type": "markdown",
   "metadata": {},
   "source": [
    "### Decision Tree"
   ]
  },
  {
   "cell_type": "code",
   "execution_count": 53,
   "metadata": {},
   "outputs": [
    {
     "data": {
      "text/plain": [
       "84.96"
      ]
     },
     "execution_count": 53,
     "metadata": {},
     "output_type": "execute_result"
    }
   ],
   "source": [
    "decision_tree = DecisionTreeClassifier()\n",
    "decision_tree.fit(train_with_dum, y_train)\n",
    "Y_pred = decision_tree.predict(test_with_dum)\n",
    "acc_decision_tree = round(decision_tree.score(train_with_dum, y_train) * 100, 2)\n",
    "acc_decision_tree"
   ]
  },
  {
   "cell_type": "code",
   "execution_count": 54,
   "metadata": {},
   "outputs": [
    {
     "name": "stdout",
     "output_type": "stream",
     "text": [
      "A submision csv was created\n"
     ]
    }
   ],
   "source": [
    "test2submit(test_labels, y_pred_test, ml_method='dec_tree')"
   ]
  },
  {
   "cell_type": "markdown",
   "metadata": {},
   "source": [
    "### NEURAL NETWORKS"
   ]
  },
  {
   "cell_type": "code",
   "execution_count": 43,
   "metadata": {},
   "outputs": [
    {
     "name": "stderr",
     "output_type": "stream",
     "text": [
      "C:\\Users\\Roberto\\Anaconda3\\envs\\tensorflow\\lib\\site-packages\\sklearn\\preprocessing\\data.py:617: DataConversionWarning: Data with input dtype uint8, int64 were all converted to float64 by StandardScaler.\n",
      "  return self.partial_fit(X, y)\n",
      "C:\\Users\\Roberto\\Anaconda3\\envs\\tensorflow\\lib\\site-packages\\sklearn\\base.py:462: DataConversionWarning: Data with input dtype uint8, int64 were all converted to float64 by StandardScaler.\n",
      "  return self.fit(X, **fit_params).transform(X)\n",
      "C:\\Users\\Roberto\\Anaconda3\\envs\\tensorflow\\lib\\site-packages\\ipykernel_launcher.py:7: DataConversionWarning: Data with input dtype uint8, int64 were all converted to float64 by StandardScaler.\n",
      "  import sys\n"
     ]
    }
   ],
   "source": [
    "#train_X, val_X, train_y, val_y\n",
    "\n",
    "# Feature Scaling\n",
    "from sklearn.preprocessing import StandardScaler\n",
    "sc = StandardScaler()\n",
    "X_train = sc.fit_transform(train_X)\n",
    "X_test = sc.transform(val_X)"
   ]
  },
  {
   "cell_type": "code",
   "execution_count": 44,
   "metadata": {},
   "outputs": [
    {
     "name": "stderr",
     "output_type": "stream",
     "text": [
      "Using TensorFlow backend.\n"
     ]
    }
   ],
   "source": [
    "# Importing the Keras libraries and packages\n",
    "import keras\n",
    "from keras.models import Sequential\n",
    "from keras.layers import Dense"
   ]
  },
  {
   "cell_type": "code",
   "execution_count": 45,
   "metadata": {},
   "outputs": [
    {
     "name": "stdout",
     "output_type": "stream",
     "text": [
      "Epoch 1/100\n",
      "712/712 [==============================] - 1s 1ms/step - loss: 0.6899 - acc: 0.6264\n",
      "Epoch 2/100\n",
      "712/712 [==============================] - 0s 170us/step - loss: 0.6777 - acc: 0.6264\n",
      "Epoch 3/100\n",
      "712/712 [==============================] - 0s 171us/step - loss: 0.6465 - acc: 0.6264\n",
      "Epoch 4/100\n",
      "712/712 [==============================] - 0s 174us/step - loss: 0.6025 - acc: 0.6264\n",
      "Epoch 5/100\n",
      "712/712 [==============================] - 0s 177us/step - loss: 0.5689 - acc: 0.6264\n",
      "Epoch 6/100\n",
      "712/712 [==============================] - 0s 185us/step - loss: 0.5504 - acc: 0.6264\n",
      "Epoch 7/100\n",
      "712/712 [==============================] - 0s 180us/step - loss: 0.5396 - acc: 0.6264\n",
      "Epoch 8/100\n",
      "712/712 [==============================] - 0s 205us/step - loss: 0.5322 - acc: 0.6264\n",
      "Epoch 9/100\n",
      "712/712 [==============================] - 0s 233us/step - loss: 0.5262 - acc: 0.7458\n",
      "Epoch 10/100\n",
      "712/712 [==============================] - 0s 225us/step - loss: 0.5220 - acc: 0.7963\n",
      "Epoch 11/100\n",
      "712/712 [==============================] - 0s 205us/step - loss: 0.5174 - acc: 0.8132\n",
      "Epoch 12/100\n",
      "712/712 [==============================] - 0s 204us/step - loss: 0.5128 - acc: 0.8188\n",
      "Epoch 13/100\n",
      "712/712 [==============================] - 0s 206us/step - loss: 0.5095 - acc: 0.8202\n",
      "Epoch 14/100\n",
      "712/712 [==============================] - 0s 239us/step - loss: 0.5065 - acc: 0.8216\n",
      "Epoch 15/100\n",
      "712/712 [==============================] - 0s 237us/step - loss: 0.5030 - acc: 0.8202\n",
      "Epoch 16/100\n",
      "712/712 [==============================] - 0s 176us/step - loss: 0.5000 - acc: 0.8202\n",
      "Epoch 17/100\n",
      "712/712 [==============================] - 0s 205us/step - loss: 0.4974 - acc: 0.8202\n",
      "Epoch 18/100\n",
      "712/712 [==============================] - 0s 184us/step - loss: 0.4948 - acc: 0.8202\n",
      "Epoch 19/100\n",
      "712/712 [==============================] - 0s 176us/step - loss: 0.4928 - acc: 0.8188\n",
      "Epoch 20/100\n",
      "712/712 [==============================] - 0s 160us/step - loss: 0.4908 - acc: 0.8202\n",
      "Epoch 21/100\n",
      "712/712 [==============================] - 0s 188us/step - loss: 0.4884 - acc: 0.8174\n",
      "Epoch 22/100\n",
      "712/712 [==============================] - 0s 225us/step - loss: 0.4861 - acc: 0.8202\n",
      "Epoch 23/100\n",
      "712/712 [==============================] - 0s 218us/step - loss: 0.4856 - acc: 0.8202\n",
      "Epoch 24/100\n",
      "712/712 [==============================] - 0s 204us/step - loss: 0.4825 - acc: 0.8188\n",
      "Epoch 25/100\n",
      "712/712 [==============================] - 0s 192us/step - loss: 0.4809 - acc: 0.8188\n",
      "Epoch 26/100\n",
      "712/712 [==============================] - 0s 176us/step - loss: 0.4793 - acc: 0.8188\n",
      "Epoch 27/100\n",
      "712/712 [==============================] - 0s 171us/step - loss: 0.4772 - acc: 0.8188\n",
      "Epoch 28/100\n",
      "712/712 [==============================] - 0s 167us/step - loss: 0.4763 - acc: 0.8188\n",
      "Epoch 29/100\n",
      "712/712 [==============================] - 0s 159us/step - loss: 0.4741 - acc: 0.8174\n",
      "Epoch 30/100\n",
      "712/712 [==============================] - 0s 178us/step - loss: 0.4725 - acc: 0.8202\n",
      "Epoch 31/100\n",
      "712/712 [==============================] - 0s 171us/step - loss: 0.4709 - acc: 0.8202\n",
      "Epoch 32/100\n",
      "712/712 [==============================] - 0s 166us/step - loss: 0.4696 - acc: 0.8202\n",
      "Epoch 33/100\n",
      "712/712 [==============================] - 0s 155us/step - loss: 0.4684 - acc: 0.8188\n",
      "Epoch 34/100\n",
      "712/712 [==============================] - 0s 169us/step - loss: 0.4669 - acc: 0.8188\n",
      "Epoch 35/100\n",
      "712/712 [==============================] - 0s 164us/step - loss: 0.4659 - acc: 0.8216\n",
      "Epoch 36/100\n",
      "712/712 [==============================] - 0s 145us/step - loss: 0.4641 - acc: 0.8230\n",
      "Epoch 37/100\n",
      "712/712 [==============================] - 0s 176us/step - loss: 0.4631 - acc: 0.8216\n",
      "Epoch 38/100\n",
      "712/712 [==============================] - 0s 174us/step - loss: 0.4629 - acc: 0.8188 0s - loss: 0.4791 - acc: 0.80\n",
      "Epoch 39/100\n",
      "712/712 [==============================] - 0s 157us/step - loss: 0.4609 - acc: 0.8258\n",
      "Epoch 40/100\n",
      "712/712 [==============================] - 0s 162us/step - loss: 0.4596 - acc: 0.8202\n",
      "Epoch 41/100\n",
      "712/712 [==============================] - 0s 139us/step - loss: 0.4590 - acc: 0.8272\n",
      "Epoch 42/100\n",
      "712/712 [==============================] - 0s 157us/step - loss: 0.4575 - acc: 0.8230\n",
      "Epoch 43/100\n",
      "712/712 [==============================] - 0s 162us/step - loss: 0.4564 - acc: 0.8230\n",
      "Epoch 44/100\n",
      "712/712 [==============================] - 0s 162us/step - loss: 0.4557 - acc: 0.8230\n",
      "Epoch 45/100\n",
      "712/712 [==============================] - 0s 146us/step - loss: 0.4543 - acc: 0.8258\n",
      "Epoch 46/100\n",
      "712/712 [==============================] - 0s 160us/step - loss: 0.4537 - acc: 0.8244\n",
      "Epoch 47/100\n",
      "712/712 [==============================] - 0s 159us/step - loss: 0.4530 - acc: 0.8216\n",
      "Epoch 48/100\n",
      "712/712 [==============================] - 0s 136us/step - loss: 0.4519 - acc: 0.8272\n",
      "Epoch 49/100\n",
      "712/712 [==============================] - 0s 152us/step - loss: 0.4510 - acc: 0.8258\n",
      "Epoch 50/100\n",
      "712/712 [==============================] - 0s 156us/step - loss: 0.4502 - acc: 0.8272\n",
      "Epoch 51/100\n",
      "712/712 [==============================] - 0s 140us/step - loss: 0.4493 - acc: 0.8272\n",
      "Epoch 52/100\n",
      "712/712 [==============================] - 0s 157us/step - loss: 0.4484 - acc: 0.8301\n",
      "Epoch 53/100\n",
      "712/712 [==============================] - 0s 164us/step - loss: 0.4477 - acc: 0.8287\n",
      "Epoch 54/100\n",
      "712/712 [==============================] - 0s 131us/step - loss: 0.4471 - acc: 0.8272\n",
      "Epoch 55/100\n",
      "712/712 [==============================] - 0s 167us/step - loss: 0.4460 - acc: 0.8272\n",
      "Epoch 56/100\n",
      "712/712 [==============================] - 0s 160us/step - loss: 0.4455 - acc: 0.8301\n",
      "Epoch 57/100\n",
      "712/712 [==============================] - 0s 163us/step - loss: 0.4445 - acc: 0.8301\n",
      "Epoch 58/100\n",
      "712/712 [==============================] - 0s 198us/step - loss: 0.4441 - acc: 0.8287\n",
      "Epoch 59/100\n",
      "712/712 [==============================] - 0s 208us/step - loss: 0.4432 - acc: 0.8301\n",
      "Epoch 60/100\n",
      "712/712 [==============================] - 0s 202us/step - loss: 0.4427 - acc: 0.8315\n",
      "Epoch 61/100\n",
      "712/712 [==============================] - 0s 206us/step - loss: 0.4416 - acc: 0.8301\n",
      "Epoch 62/100\n",
      "712/712 [==============================] - 0s 223us/step - loss: 0.4417 - acc: 0.8315\n",
      "Epoch 63/100\n",
      "712/712 [==============================] - 0s 208us/step - loss: 0.4405 - acc: 0.8301\n",
      "Epoch 64/100\n",
      "712/712 [==============================] - 0s 219us/step - loss: 0.4399 - acc: 0.8315\n",
      "Epoch 65/100\n",
      "712/712 [==============================] - 0s 216us/step - loss: 0.4393 - acc: 0.8329\n",
      "Epoch 66/100\n",
      "712/712 [==============================] - 0s 169us/step - loss: 0.4387 - acc: 0.8329\n",
      "Epoch 67/100\n",
      "712/712 [==============================] - 0s 176us/step - loss: 0.4384 - acc: 0.8343\n",
      "Epoch 68/100\n",
      "712/712 [==============================] - 0s 178us/step - loss: 0.4376 - acc: 0.8301\n",
      "Epoch 69/100\n",
      "712/712 [==============================] - 0s 216us/step - loss: 0.4367 - acc: 0.8315 0s - loss: 0.4297 - acc: 0.836\n",
      "Epoch 70/100\n",
      "712/712 [==============================] - 0s 195us/step - loss: 0.4362 - acc: 0.8301\n",
      "Epoch 71/100\n",
      "712/712 [==============================] - 0s 212us/step - loss: 0.4359 - acc: 0.8329\n",
      "Epoch 72/100\n",
      "712/712 [==============================] - 0s 170us/step - loss: 0.4353 - acc: 0.8301\n",
      "Epoch 73/100\n",
      "712/712 [==============================] - 0s 185us/step - loss: 0.4345 - acc: 0.8301 0s - loss: 0.4101 - acc: 0.85\n",
      "Epoch 74/100\n",
      "712/712 [==============================] - 0s 254us/step - loss: 0.4340 - acc: 0.8329\n",
      "Epoch 75/100\n",
      "712/712 [==============================] - 0s 244us/step - loss: 0.4335 - acc: 0.8329\n",
      "Epoch 76/100\n",
      "712/712 [==============================] - 0s 176us/step - loss: 0.4332 - acc: 0.8329\n",
      "Epoch 77/100\n",
      "712/712 [==============================] - 0s 159us/step - loss: 0.4327 - acc: 0.8329\n",
      "Epoch 78/100\n",
      "712/712 [==============================] - 0s 159us/step - loss: 0.4319 - acc: 0.8329\n",
      "Epoch 79/100\n",
      "712/712 [==============================] - 0s 164us/step - loss: 0.4318 - acc: 0.8258\n",
      "Epoch 80/100\n",
      "712/712 [==============================] - 0s 133us/step - loss: 0.4318 - acc: 0.8329\n",
      "Epoch 81/100\n",
      "712/712 [==============================] - 0s 161us/step - loss: 0.4307 - acc: 0.8329\n",
      "Epoch 82/100\n",
      "712/712 [==============================] - 0s 143us/step - loss: 0.4306 - acc: 0.8329\n"
     ]
    },
    {
     "name": "stdout",
     "output_type": "stream",
     "text": [
      "Epoch 83/100\n",
      "712/712 [==============================] - 0s 160us/step - loss: 0.4303 - acc: 0.8287\n",
      "Epoch 84/100\n",
      "712/712 [==============================] - 0s 169us/step - loss: 0.4299 - acc: 0.8329\n",
      "Epoch 85/100\n",
      "712/712 [==============================] - 0s 160us/step - loss: 0.4296 - acc: 0.8329\n",
      "Epoch 86/100\n",
      "712/712 [==============================] - 0s 218us/step - loss: 0.4293 - acc: 0.8329\n",
      "Epoch 87/100\n",
      "712/712 [==============================] - 0s 221us/step - loss: 0.4287 - acc: 0.8287\n",
      "Epoch 88/100\n",
      "712/712 [==============================] - 0s 198us/step - loss: 0.4284 - acc: 0.8315\n",
      "Epoch 89/100\n",
      "712/712 [==============================] - 0s 156us/step - loss: 0.4277 - acc: 0.8329\n",
      "Epoch 90/100\n",
      "712/712 [==============================] - 0s 167us/step - loss: 0.4274 - acc: 0.8301\n",
      "Epoch 91/100\n",
      "712/712 [==============================] - 0s 155us/step - loss: 0.4275 - acc: 0.8315\n",
      "Epoch 92/100\n",
      "712/712 [==============================] - 0s 156us/step - loss: 0.4274 - acc: 0.8301\n",
      "Epoch 93/100\n",
      "712/712 [==============================] - 0s 138us/step - loss: 0.4263 - acc: 0.8329\n",
      "Epoch 94/100\n",
      "712/712 [==============================] - 0s 156us/step - loss: 0.4263 - acc: 0.8329\n",
      "Epoch 95/100\n",
      "712/712 [==============================] - 0s 191us/step - loss: 0.4254 - acc: 0.8315\n",
      "Epoch 96/100\n",
      "712/712 [==============================] - ETA: 0s - loss: 0.4444 - acc: 0.818 - 0s 205us/step - loss: 0.4257 - acc: 0.8258\n",
      "Epoch 97/100\n",
      "712/712 [==============================] - 0s 212us/step - loss: 0.4254 - acc: 0.8315\n",
      "Epoch 98/100\n",
      "712/712 [==============================] - 0s 171us/step - loss: 0.4258 - acc: 0.8272\n",
      "Epoch 99/100\n",
      "712/712 [==============================] - 0s 156us/step - loss: 0.4254 - acc: 0.8315\n",
      "Epoch 100/100\n",
      "712/712 [==============================] - 0s 173us/step - loss: 0.4248 - acc: 0.8329\n"
     ]
    },
    {
     "data": {
      "text/plain": [
       "<keras.callbacks.History at 0x263a36cb240>"
      ]
     },
     "execution_count": 45,
     "metadata": {},
     "output_type": "execute_result"
    }
   ],
   "source": [
    "# Initialising the ANN\n",
    "classifier = Sequential()\n",
    "\n",
    "# Adding the input layer and the first hidden layer\n",
    "classifier.add(Dense(units = 4, kernel_initializer = 'uniform', activation = 'relu', input_dim = 16))\n",
    "\n",
    "# Adding the second hidden layer\n",
    "classifier.add(Dense(units = 4, kernel_initializer = 'uniform', activation = 'relu'))\n",
    "\n",
    "# Adding the output layer\n",
    "classifier.add(Dense(units = 1, kernel_initializer = 'uniform', activation = 'sigmoid'))\n",
    "\n",
    "# Compiling the ANN\n",
    "classifier.compile(optimizer = 'adam', loss = 'binary_crossentropy', metrics = ['accuracy'])\n",
    "\n",
    "# Fitting the ANN to the Training set\n",
    "classifier.fit(train_X, train_y, batch_size = 10, epochs = 100)"
   ]
  },
  {
   "cell_type": "code",
   "execution_count": 46,
   "metadata": {},
   "outputs": [],
   "source": [
    "# Predicting the Test set results\n",
    "y_pred = classifier.predict(val_X)\n",
    "y_pred = y_pred > 0.5"
   ]
  },
  {
   "cell_type": "code",
   "execution_count": 49,
   "metadata": {},
   "outputs": [
    {
     "data": {
      "text/plain": [
       "array([[95,  8],\n",
       "       [20, 56]], dtype=int64)"
      ]
     },
     "execution_count": 49,
     "metadata": {},
     "output_type": "execute_result"
    }
   ],
   "source": [
    "cm = confusion_matrix(val_y, y_pred)\n",
    "cm"
   ]
  },
  {
   "cell_type": "code",
   "execution_count": 50,
   "metadata": {},
   "outputs": [
    {
     "data": {
      "text/plain": [
       "0.8435754189944135"
      ]
     },
     "execution_count": 50,
     "metadata": {},
     "output_type": "execute_result"
    }
   ],
   "source": [
    "(95+56)/(95+56+8+20)"
   ]
  },
  {
   "cell_type": "code",
   "execution_count": null,
   "metadata": {},
   "outputs": [],
   "source": []
  }
 ],
 "metadata": {
  "kernelspec": {
   "display_name": "Python 3",
   "language": "python",
   "name": "python3"
  },
  "language_info": {
   "codemirror_mode": {
    "name": "ipython",
    "version": 3
   },
   "file_extension": ".py",
   "mimetype": "text/x-python",
   "name": "python",
   "nbconvert_exporter": "python",
   "pygments_lexer": "ipython3",
   "version": "3.5.6"
  }
 },
 "nbformat": 4,
 "nbformat_minor": 2
}
